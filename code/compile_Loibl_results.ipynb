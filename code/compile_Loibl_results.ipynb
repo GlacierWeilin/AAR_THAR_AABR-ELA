{
 "cells": [
  {
   "cell_type": "code",
   "execution_count": 1,
   "id": "7420fb13-26f5-4c35-b384-067e23de7c30",
   "metadata": {},
   "outputs": [],
   "source": [
    "import numpy as np\n",
    "import pandas as pd\n",
    "import xarray as xr"
   ]
  },
  {
   "cell_type": "code",
   "execution_count": 2,
   "id": "4e9b1f58-f6e2-4144-8120-909796cd65e3",
   "metadata": {},
   "outputs": [],
   "source": [
    "file_path = '/scratch/rd53/wy2165/AABR_Loibl/'\n",
    "AAR = []\n",
    "for i in range(1,7):\n",
    "    filename = file_path + 'AAR_1995_2014_Loibl_' + str(i) + '.csv';\n",
    "    df = pd.read_csv(filename).iloc[:, 1:]\n",
    "    AAR.append(df)\n",
    "AAR = pd.concat(AAR, axis=1)\n",
    "AAR = AAR.T\n",
    "AAR.index.name = 'RGIId'\n",
    "AAR.columns = np.arange(1995, 2015)\n",
    "\n",
    "AAR.to_csv('/g/data/rd53/wy2165/ELA_ratios/AAR_1995_2014_Loibl.csv')"
   ]
  },
  {
   "cell_type": "code",
   "execution_count": 3,
   "id": "28c91a25-3c8a-49df-b22c-f2c89aff6fc1",
   "metadata": {},
   "outputs": [],
   "source": [
    "file_path = '/scratch/rd53/wy2165/AABR_Loibl/'\n",
    "AAR = []\n",
    "for i in range(1,7):\n",
    "    filename = file_path + 'Loibl_AAR-ELA-AABR_' + str(i) + '.csv';\n",
    "    df = pd.read_csv(filename).iloc[:, 1:]\n",
    "    AAR.append(df)\n",
    "AAR = pd.concat(AAR, axis=1)\n",
    "AAR = AAR.T\n",
    "AAR.index.name = 'RGIId'\n",
    "AAR.columns = ['Loibl_ELA', 'Loibl_THAR', 'Loibl_AAR', 'Loibl_AABR']\n",
    "\n",
    "AAR.to_csv('/g/data/rd53/wy2165/ELA_ratios/Loibl_AAR-ELA-AABR.csv')"
   ]
  },
  {
   "cell_type": "code",
   "execution_count": null,
   "id": "c986bc8d-dbf9-4651-907e-6ccd4e89be83",
   "metadata": {},
   "outputs": [],
   "source": []
  }
 ],
 "metadata": {
  "kernelspec": {
   "display_name": "OGGM 1.6.2 shared [conda env:wy2165-oggm162]",
   "language": "python",
   "name": "conda-env-wy2165-oggm162-oggm162"
  },
  "language_info": {
   "codemirror_mode": {
    "name": "ipython",
    "version": 3
   },
   "file_extension": ".py",
   "mimetype": "text/x-python",
   "name": "python",
   "nbconvert_exporter": "python",
   "pygments_lexer": "ipython3",
   "version": "3.10.18"
  }
 },
 "nbformat": 4,
 "nbformat_minor": 5
}
