{
 "cells": [
  {
   "cell_type": "code",
   "execution_count": 1,
   "id": "1bb57e90-e5b6-4a14-a0d1-cd00269f64a4",
   "metadata": {},
   "outputs": [],
   "source": [
    "import numpy as np\n",
    "import pandas as pd\n",
    "import xarray as xr\n",
    "\n",
    "file_path = '/scratch/rd53/wy2165/AABR/results/'"
   ]
  },
  {
   "cell_type": "code",
   "execution_count": 7,
   "id": "36e85058-967d-4270-b6cc-8b2dd6238ecf",
   "metadata": {},
   "outputs": [],
   "source": [
    "AAR_ELA_AABR_compile = []\n",
    "for i in range(1,45):\n",
    "    filename = file_path + 'AAR-ELA-AABR_compile_' + str(i) + '.csv';\n",
    "    df = pd.read_csv(filename).iloc[:, 1:]\n",
    "    AAR_ELA_AABR_compile.append(df)\n",
    "AAR_ELA_AABR_compile = pd.concat(AAR_ELA_AABR_compile, axis=1)\n",
    "AAR_ELA_AABR_compile = AAR_ELA_AABR_compile.T\n",
    "AAR_ELA_AABR_compile.index.name = 'RGIId'\n",
    "AAR_ELA_AABR_compile.columns = ['ELA_median_compile', 'ELA_min_compile', 'ELA_max_compile', 'AAR_median_compile', 'AAR_min_compile', 'AAR_max_compile',\n",
    "                                'AABR_median_compile', 'AABR_min_compile', 'AABR_max_compile','THAR_median_compile', 'THAR_min_compile', 'THAR_max_compile']"
   ]
  },
  {
   "cell_type": "code",
   "execution_count": 8,
   "id": "bb37b552-265a-4e1d-9388-695d1997e4f2",
   "metadata": {},
   "outputs": [],
   "source": [
    "AAR_ELA_AABR_intercept = []\n",
    "for i in range(1,45):\n",
    "    filename = file_path + 'AAR-ELA-AABR_intercept_' + str(i) + '.csv';\n",
    "    df = pd.read_csv(filename).iloc[:, 1:]\n",
    "    AAR_ELA_AABR_intercept.append(df)\n",
    "AAR_ELA_AABR_intercept = pd.concat(AAR_ELA_AABR_intercept, axis=1)\n",
    "AAR_ELA_AABR_intercept = AAR_ELA_AABR_intercept.T\n",
    "AAR_ELA_AABR_intercept.index.name = 'RGIId'\n",
    "AAR_ELA_AABR_intercept.columns = ['ELA_median_intercept', 'ELA_min_intercept', 'ELA_max_intercept', 'AAR_median_intercept', 'AAR_min_intercept', 'AAR_max_intercept',\n",
    "                                'AABR_median_intercept', 'AABR_min_intercept', 'AABR_max_intercept','THAR_median_intercept', 'THAR_min_intercept', 'THAR_max_intercept']"
   ]
  },
  {
   "cell_type": "code",
   "execution_count": 9,
   "id": "1c24f8cb-a7e1-47bb-b339-1c50e0d5ee85",
   "metadata": {},
   "outputs": [],
   "source": [
    "AAR_ELA_AABR_steady = []\n",
    "for i in range(1,45):\n",
    "    filename = file_path + 'AAR-ELA-AABR_steady_' + str(i) + '.csv';\n",
    "    df = pd.read_csv(filename).iloc[:, 1:]\n",
    "    AAR_ELA_AABR_steady.append(df)\n",
    "AAR_ELA_AABR_steady = pd.concat(AAR_ELA_AABR_steady, axis=1)\n",
    "AAR_ELA_AABR_steady = AAR_ELA_AABR_steady.T\n",
    "AAR_ELA_AABR_steady.index.name = 'RGIId'\n",
    "AAR_ELA_AABR_steady.columns = ['ELA_median_steady', 'ELA_min_steady', 'ELA_max_steady', 'AAR_median_steady', 'AAR_min_steady', 'AAR_max_steady',\n",
    "                                'AABR_median_steady', 'AABR_min_steady', 'AABR_max_steady', 'THAR_median_steady', 'THAR_min_steady', 'THAR_max_steady']"
   ]
  },
  {
   "cell_type": "code",
   "execution_count": 10,
   "id": "538bca98-b509-4a35-b937-de5272193d6f",
   "metadata": {},
   "outputs": [],
   "source": [
    "glacier_temp = []\n",
    "for i in range(1,45):\n",
    "    filename = file_path + 'glacier_temp_oggm_' + str(i) + '.csv';\n",
    "    df = pd.read_csv(filename).iloc[:, 1:]\n",
    "    glacier_temp.append(df)\n",
    "glacier_temp = pd.concat(glacier_temp, axis=1)\n",
    "glacier_temp = glacier_temp.T\n",
    "glacier_temp.index.name = 'RGIId'\n",
    "glacier_temp.columns = ['glacier_temp']"
   ]
  },
  {
   "cell_type": "code",
   "execution_count": 12,
   "id": "09360249-cfe9-4977-94b5-a41a294be581",
   "metadata": {},
   "outputs": [],
   "source": [
    "df_final = pd.concat([AABR156, AABR175, AAR050, AAR058, THAR050, AAR_ELA_AABR_compile, AAR_ELA_AABR_intercept, AAR_ELA_AABR_steady,\n",
    "                     glacier_temp], axis=1)\n",
    "ds = xr.Dataset.from_dataframe(df_final)\n",
    "ds.to_netcdf(file_path + '../results_oggm.nc')"
   ]
  }
 ],
 "metadata": {
  "kernelspec": {
   "display_name": "Python 3 (ipykernel)",
   "language": "python",
   "name": "python3"
  },
  "language_info": {
   "codemirror_mode": {
    "name": "ipython",
    "version": 3
   },
   "file_extension": ".py",
   "mimetype": "text/x-python",
   "name": "python",
   "nbconvert_exporter": "python",
   "pygments_lexer": "ipython3",
   "version": "3.10.16"
  }
 },
 "nbformat": 4,
 "nbformat_minor": 5
}
